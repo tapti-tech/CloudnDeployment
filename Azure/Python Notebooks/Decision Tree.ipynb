{
 "cells": [
  {
   "cell_type": "markdown",
   "metadata": {},
   "source": [
    "Implementing D-Tree in python using numpy with entropy and Information Gain Values"
   ]
  },
  {
   "cell_type": "code",
   "execution_count": 1,
   "metadata": {},
   "outputs": [
    {
     "data": {
      "text/plain": [
       "'\\nDATASET : \\n\\nage\\tincome\\tstudent\\tcredit\\tbuys_computer\\n<=30\\thigh\\tno \\tfair\\tno\\n<=30\\thigh\\tno \\tgood\\tno\\n31..40\\thigh\\tno \\tfair\\tyes\\n>40\\tmedium\\tno \\tfair\\tyes\\n>40\\tlow\\tyes\\tfair\\tyes\\n>40\\tlow\\tyes\\tgood\\tno\\n31..40\\tlow\\tyes\\tgood\\tyes\\n<=30\\tmedium\\tno \\tfair\\tno\\n<=30\\tlow\\tyes\\tfair\\tyes\\n>40\\tmedium\\tyes\\tfair\\tyes\\n<=30\\tmedium\\tyes\\tgood\\tyes\\n31..40\\tmedium\\tno \\tgood\\tyes\\n31..40\\thigh\\tyes\\tfair\\tyes\\n>40\\tmedium\\tno \\tgood\\tno\\n\\n'"
      ]
     },
     "execution_count": 1,
     "metadata": {},
     "output_type": "execute_result"
    }
   ],
   "source": [
    "'''\n",
    "DATASET : \n",
    "\n",
    "age\tincome\tstudent\tcredit\tbuys_computer\n",
    "<=30\thigh\tno \tfair\tno\n",
    "<=30\thigh\tno \tgood\tno\n",
    "31..40\thigh\tno \tfair\tyes\n",
    ">40\tmedium\tno \tfair\tyes\n",
    ">40\tlow\tyes\tfair\tyes\n",
    ">40\tlow\tyes\tgood\tno\n",
    "31..40\tlow\tyes\tgood\tyes\n",
    "<=30\tmedium\tno \tfair\tno\n",
    "<=30\tlow\tyes\tfair\tyes\n",
    ">40\tmedium\tyes\tfair\tyes\n",
    "<=30\tmedium\tyes\tgood\tyes\n",
    "31..40\tmedium\tno \tgood\tyes\n",
    "31..40\thigh\tyes\tfair\tyes\n",
    ">40\tmedium\tno \tgood\tno\n",
    "\n",
    "'''"
   ]
  },
  {
   "cell_type": "code",
   "execution_count": 2,
   "metadata": {},
   "outputs": [],
   "source": [
    "import numpy as np\n",
    "x1 = [1,1,2,3,3,3,2,1,1,3,1,2,2,3] #age attribute 1 : age<=30, 2 :31-40 ,3: >40.\n",
    "x2 = [3,3,3,2,1,1,1,2,1,2,2,2,3,2] #income 1: low, 2 : medium ,3 :high.\n",
    "x3=  [2,2,2,2,1,1,1,2,1,1,1,2,1,2] #student 1:yes, 2:no\n",
    "x4 = [1,2,1,1,1,2,2,1,1,1,2,2,1,2] #credit 1:fair, 2:good\n",
    "\n",
    "\n",
    "y = np.array([2,2,1,1,1,2,1,2,1,1,1,1,1,2]) #buys_computer 1:yes 2:no TARGET LABEL\n"
   ]
  },
  {
   "cell_type": "code",
   "execution_count": 3,
   "metadata": {},
   "outputs": [],
   "source": [
    "#splits the target label\n",
    "def partition(a):\n",
    "    return {c: (a==c).nonzero()[0] for c in np.unique(a)}"
   ]
  },
  {
   "cell_type": "code",
   "execution_count": 4,
   "metadata": {},
   "outputs": [],
   "source": [
    "#calculates class entropy I(9,5)\n",
    "def entropy(s):\n",
    "    res = 0\n",
    "    val, counts = np.unique(s, return_counts=True)\n",
    "    freqs = counts.astype('float')/len(s)\n",
    "    for p in freqs:\n",
    "        if p != 0.0:\n",
    "            res -= p * np.log2(p)\n",
    "    return res"
   ]
  },
  {
   "cell_type": "code",
   "execution_count": 5,
   "metadata": {},
   "outputs": [],
   "source": [
    "#claculates attribute entropy (example Iage(D)=5/14*I(2,3)+4/14*I(4,0))\n",
    "def mutual_information(y, x):\n",
    "\n",
    "    res = entropy(y)\n",
    "\n",
    "    # We partition x, according to attribute values x_i\n",
    "    val, counts = np.unique(x, return_counts=True)\n",
    "    freqs = counts.astype('float')/len(x)\n",
    "\n",
    "    # We calculate a weighted average of the entropy\n",
    "    for p, v in zip(freqs, val):\n",
    "        res -= p * entropy(y[x == v])\n",
    "\n",
    "    return res"
   ]
  },
  {
   "cell_type": "code",
   "execution_count": 6,
   "metadata": {},
   "outputs": [
    {
     "name": "stdout",
     "output_type": "stream",
     "text": [
      "x_0 : AGE, x_1 : INCOME, x_2 STUDENT, x_3 : CREDIT \n",
      "\n",
      "array([1,2]) represents class label 1-yes 2-no \n",
      "\n",
      "{'x_0 = 1': {'x_2 = 1': array([1, 1]), 'x_2 = 2': array([2, 2, 2])},\n",
      " 'x_0 = 2': array([1, 1, 1, 1]),\n",
      " 'x_0 = 3': {'x_3 = 1': array([1, 1, 1]), 'x_3 = 2': array([2, 2])}}\n"
     ]
    }
   ],
   "source": [
    "from pprint import pprint\n",
    "\n",
    "#if we cannot categorize further.\n",
    "def is_pure(s):\n",
    "    return len(set(s)) == 1\n",
    "\n",
    "def recursive_split(x, y):\n",
    "    # If there could be no split, just return the original set\n",
    "    if is_pure(y) or len(y) == 0:\n",
    "        return y\n",
    "\n",
    "    # We get attribute that gives the highest mutual information\n",
    "    gain = np.array([mutual_information(y, x_attr) for x_attr in x.T])\n",
    "    selected_attr = np.argmax(gain)\n",
    "\n",
    "    # If there's no gain at all, nothing has to be done, just return the original set\n",
    "    if np.all(gain < 1e-6):\n",
    "        return y\n",
    "\n",
    "\n",
    "    # We split using the selected attribute\n",
    "    sets = partition(x[:, selected_attr])\n",
    "\n",
    "    res = {}\n",
    "    for k, v in sets.items():\n",
    "        y_subset = y.take(v, axis=0)\n",
    "        x_subset = x.take(v, axis=0)\n",
    "\n",
    "        res[\"x_%d = %d\" % (selected_attr, k)] = recursive_split(x_subset, y_subset)\n",
    "\n",
    "    return res\n",
    "\n",
    "X = np.array([x1, x2, x3, x4]).T\n",
    "print(\"x_0 : AGE, x_1 : INCOME, x_2 STUDENT, x_3 : CREDIT \\n\")\n",
    "print (\"array([1,2]) represents class label 1-yes 2-no \\n\")\n",
    "pprint(recursive_split(X, y))"
   ]
  }
 ],
 "metadata": {
  "kernelspec": {
   "display_name": "Python 3",
   "language": "python",
   "name": "python3"
  },
  "language_info": {
   "codemirror_mode": {
    "name": "ipython",
    "version": 3
   },
   "file_extension": ".py",
   "mimetype": "text/x-python",
   "name": "python",
   "nbconvert_exporter": "python",
   "pygments_lexer": "ipython3",
   "version": "3.6.5"
  }
 },
 "nbformat": 4,
 "nbformat_minor": 2
}
